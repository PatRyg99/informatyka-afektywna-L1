{
 "cells": [
  {
   "cell_type": "markdown",
   "metadata": {},
   "source": [
    "# EDA"
   ]
  },
  {
   "cell_type": "markdown",
   "metadata": {},
   "source": [
    "### Wczytanie danych"
   ]
  },
  {
   "cell_type": "code",
   "execution_count": 2,
   "metadata": {},
   "outputs": [
    {
     "data": {
      "text/plain": [
       "([5.0, 7.0, 3.0], 36)"
      ]
     },
     "execution_count": 2,
     "metadata": {},
     "output_type": "execute_result"
    }
   ],
   "source": [
    "import os\n",
    "from pathlib import Path\n",
    "from typing import Optional\n",
    "\n",
    "data_path: Path = Path(\"data/CK-dataset\")\n",
    "labels_path: Path = data_path / Path(\"label/\")\n",
    "frames_path: Path = data_path / Path(\"image/\")\n",
    "data: dict[str, list[str]] = dict()\n",
    "frames: dict[str, int] = dict()\n",
    "\n",
    "emotion_mapper: dict[int, str] = {\n",
    "    0: \"neutral\",\n",
    "    1: \"anger\",\n",
    "    2: \"contempt\",\n",
    "    3: \"disgust\",\n",
    "    4: \"fear\",\n",
    "    5: \"happy\",\n",
    "    6: \"sadness\",\n",
    "    7: \"surprise\",\n",
    "}\n",
    "\n",
    "def get_emotion_from_clip(path: str) -> Optional[float]:\n",
    "    label_files = os.listdir(path)\n",
    "    assert len(label_files) <= 1\n",
    "    if label_files:\n",
    "        with open(os.path.join(path, label_files[0]) , \"r\") as file:\n",
    "            value = float(file.readline())\n",
    "        return value\n",
    "    return None\n",
    "\n",
    "# wczytanie emocji poszczególnych osób\n",
    "\n",
    "for person in os.listdir(labels_path):\n",
    "    data[person] = []\n",
    "    person_path = os.path.join(labels_path, person)\n",
    "    for clip in os.listdir(person_path):\n",
    "        emotion_label = get_emotion_from_clip(os.path.join(person_path, clip))\n",
    "        if emotion_label is not None:\n",
    "            data[person].append(emotion_label)\n",
    "\n",
    "# zliczanie klatek dla poszczególnych osób\n",
    "\n",
    "for person in os.listdir(frames_path):\n",
    "    person_path = os.path.join(frames_path, person)\n",
    "    frames[person] = 0\n",
    "    for clip in os.listdir(person_path):\n",
    "        if clip.startswith(\"0\"):\n",
    "            frames[person] += len(\n",
    "                os.listdir(os.path.join(person_path, clip))\n",
    "            )\n",
    "\n",
    "\n",
    "data[\"S096\"], frames[\"S096\"]"
   ]
  },
  {
   "cell_type": "markdown",
   "metadata": {},
   "source": [
    "### Rozkład emocji w zbiorze danych"
   ]
  },
  {
   "cell_type": "code",
   "execution_count": 3,
   "metadata": {},
   "outputs": [
    {
     "data": {
      "text/plain": [
       "327"
      ]
     },
     "execution_count": 3,
     "metadata": {},
     "output_type": "execute_result"
    }
   ],
   "source": [
    "# lista wszystkich wykrytych emocji\n",
    "\n",
    "flat_data = sum(list(data.values()), [])\n",
    "len(flat_data)"
   ]
  },
  {
   "cell_type": "code",
   "execution_count": 4,
   "metadata": {},
   "outputs": [
    {
     "data": {
      "image/png": "[encoded data removed]",
      "text/plain": [
       "<Figure size 432x288 with 1 Axes>"
      ]
     },
     "metadata": {
      "needs_background": "light"
     },
     "output_type": "display_data"
    }
   ],
   "source": [
    "import matplotlib.pyplot as plt\n",
    "import numpy as np\n",
    "\n",
    "_ = plt.hist(sorted([emotion_mapper[x] for x in flat_data]), bins=np.arange(len(set(flat_data)))-0.5)"
   ]
  },
  {
   "cell_type": "markdown",
   "metadata": {},
   "source": [
    "### Rozkład liczby klatek dla poszególnych osób"
   ]
  },
  {
   "cell_type": "code",
   "execution_count": 5,
   "metadata": {},
   "outputs": [
    {
     "data": {
      "image/png": "[encoded data removed]",
      "text/plain": [
       "<Figure size 432x288 with 1 Axes>"
      ]
     },
     "metadata": {
      "needs_background": "light"
     },
     "output_type": "display_data"
    }
   ],
   "source": [
    "flat_frames: list[int] = frames.values()\n",
    "_ = plt.hist(flat_frames, bins=30)"
   ]
  },
  {
   "cell_type": "code",
   "execution_count": 6,
   "metadata": {},
   "outputs": [
    {
     "name": "stdout",
     "output_type": "stream",
     "text": [
      "Maksymalna liczba klatek na osobę: 220, minimalna liczba klatek na osobę: 7.\n"
     ]
    }
   ],
   "source": [
    "print(f\"Maksymalna liczba klatek na osobę: {max(flat_frames)}, minimalna liczba klatek na osobę: {min(flat_frames)}.\")"
   ]
  },
  {
   "cell_type": "markdown",
   "metadata": {},
   "source": [
    "### Przygotownie zbioru danych:\n",
    "\n",
    "Przygotowując zbiór danych założyliśmy podział względem osób, a nie klipów, czyli jeśli ujęcia danej osoby znajdują się w zbiorze treningowym, to nie wystąpią już w walidacyjnym (i na odwrót). Takie złożenie powinno naszym zdaniem dać rzetelniejsze wyniki. \n"
   ]
  },
  {
   "cell_type": "code",
   "execution_count": 7,
   "metadata": {},
   "outputs": [
    {
     "name": "stderr",
     "output_type": "stream",
     "text": [
      "Loading dataset: 100%|██████████| 1148/1148 [00:00<00:00, 26779.20it/s]\n",
      "Loading dataset: 100%|██████████| 484/484 [00:00<00:00, 47144.52it/s]"
     ]
    },
    {
     "name": "stdout",
     "output_type": "stream",
     "text": [
      "Podział train/val: 1148/484 | 0.70/0.30\n"
     ]
    },
    {
     "name": "stderr",
     "output_type": "stream",
     "text": [
      "\n"
     ]
    }
   ],
   "source": [
    "import json\n",
    "from src.dataset.ck_dataset import make_dataset\n",
    "\n",
    "\n",
    "split_path = Path(\"split.json\")\n",
    "with split_path.open() as file:\n",
    "    split_dict = json.load(file)\n",
    "\n",
    "train_dataset = make_dataset(root_path=data_path, people_names=split_dict[\"train\"])\n",
    "val_dataset = make_dataset(root_path=data_path, people_names=split_dict[\"val\"])\n",
    "\n",
    "total = len(train_dataset) + len(val_dataset)\n",
    "\n",
    "print(\n",
    "    f\"Podział train/val: \"\n",
    "    f\"{len(train_dataset)}/{len(val_dataset)} | \" \n",
    "    f\"{len(train_dataset)/total:.2f}/{len(val_dataset)/total:.2f}\"\n",
    ")"
   ]
  },
  {
   "cell_type": "markdown",
   "metadata": {},
   "source": [
    "### Rozkład emocji względem klatek w przygotowanym zbiorze danych:"
   ]
  },
  {
   "cell_type": "code",
   "execution_count": 24,
   "metadata": {},
   "outputs": [
    {
     "data": {
      "image/png": "[encoded data removed]",
      "text/plain": [
       "<Figure size 1080x576 with 1 Axes>"
      ]
     },
     "metadata": {
      "needs_background": "light"
     },
     "output_type": "display_data"
    }
   ],
   "source": [
    "import torch\n",
    "import pandas as pd\n",
    "\n",
    "from collections import defaultdict\n",
    "from typing import TYPE_CHECKING\n",
    "import seaborn as sns\n",
    "\n",
    "\n",
    "def plot_emotions_distribution(train_dataset, val_dataset):\n",
    "\n",
    "    data = []\n",
    "\n",
    "    for sample in train_dataset:\n",
    "        data.append((\"train\", emotion_mapper[sample[\"label\"].item()]))\n",
    "\n",
    "    for sample in val_dataset:\n",
    "        data.append((\"valid\", emotion_mapper[sample[\"label\"].item()]))\n",
    "\n",
    "    df = pd.DataFrame(data, columns=[\"split\", \"emotion\"])\n",
    "\n",
    "    fig, ax = plt.subplots(figsize=(15, 8))\n",
    "    ax.set_title(\"Dystrybucja klas w zbiorach\")\n",
    "    sns.histplot(data=df, x=\"emotion\", hue=\"split\", kde=True, multiple=\"dodge\", ax=ax)\n",
    "\n",
    "plot_emotions_distribution(train_dataset, val_dataset)"
   ]
  },
  {
   "attachments": {},
   "cell_type": "markdown",
   "metadata": {},
   "source": [
    "## Wizualizacja siatek"
   ]
  },
  {
   "cell_type": "code",
   "execution_count": 36,
   "metadata": {},
   "outputs": [
    {
     "name": "stdout",
     "output_type": "stream",
     "text": [
      "69\n",
      "70\n",
      "71\n",
      "130\n",
      "131\n",
      "132\n",
      "133\n",
      "199\n",
      "200\n",
      "201\n",
      "202\n",
      "203\n",
      "204\n",
      "205\n",
      "393\n",
      "394\n",
      "395\n",
      "396\n",
      "577\n",
      "578\n",
      "579\n",
      "585\n",
      "586\n",
      "587\n",
      "588\n",
      "724\n",
      "725\n",
      "726\n",
      "782\n",
      "783\n",
      "784\n",
      "811\n",
      "812\n",
      "813\n",
      "814\n",
      "815\n",
      "816\n",
      "817\n",
      "875\n",
      "876\n",
      "877\n",
      "878\n",
      "963\n",
      "964\n",
      "965\n",
      "966\n",
      "999\n",
      "1000\n",
      "1001\n",
      "1016\n",
      "1017\n",
      "1018\n",
      "1019\n",
      "1020\n",
      "1021\n"
     ]
    }
   ],
   "source": [
    "import pyvista as pv\n",
    "\n",
    "for i, sample in enumerate(train_dataset):\n",
    "    if sample[\"label\"].item() == 2:\n",
    "        print(i)\n"
   ]
  }
 ],
 "metadata": {
  "kernelspec": {
   "display_name": "Python 3.9.10 ('dnn')",
   "language": "python",
   "name": "python3"
  },
  "language_info": {
   "codemirror_mode": {
    "name": "ipython",
    "version": 3
   },
   "file_extension": ".py",
   "mimetype": "text/x-python",
   "name": "python",
   "nbconvert_exporter": "python",
   "pygments_lexer": "ipython3",
   "version": "3.9.10"
  },
  "orig_nbformat": 4,
  "vscode": {
   "interpreter": {
    "hash": "3800b04b570d7adb484cd088406f6e6e787c9e1cbd87758f7af31a0046186547"
   }
  }
 },
 "nbformat": 4,
 "nbformat_minor": 2
}
