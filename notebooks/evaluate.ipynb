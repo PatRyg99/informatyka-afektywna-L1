{
 "cells": [
  {
   "cell_type": "code",
   "execution_count": 10,
   "metadata": {},
   "outputs": [],
   "source": [
    "import os\n",
    "\n",
    "from tqdm.auto import tqdm\n",
    "import numpy as np\n",
    "import pandas as pd\n",
    "import matplotlib.pyplot as plt\n",
    "from sklearn.metrics import ConfusionMatrixDisplay, classification_report, f1_score"
   ]
  },
  {
   "cell_type": "code",
   "execution_count": 5,
   "metadata": {},
   "outputs": [],
   "source": [
    "experiment_path = \"output/dgcnn-hks\"\n",
    "val_predictions = os.path.join(experiment_path, \"val_predictions_rot.csv\")"
   ]
  },
  {
   "cell_type": "markdown",
   "metadata": {},
   "source": [
    "## Emotions map\n",
    "\n",
    "0. neutral\n",
    "1. anger\n",
    "2. contempt\n",
    "3. disgust\n",
    "4. fear\n",
    "5. happy\n",
    "6. sadness\n",
    "7. surprise"
   ]
  },
  {
   "cell_type": "markdown",
   "metadata": {},
   "source": [
    "## Validation data"
   ]
  },
  {
   "cell_type": "code",
   "execution_count": 6,
   "metadata": {},
   "outputs": [
    {
     "name": "stdout",
     "output_type": "stream",
     "text": [
      "              precision    recall  f1-score   support\n",
      "\n",
      "           1       0.68      0.57      0.62        77\n",
      "           2       0.36      0.24      0.29        17\n",
      "           3       0.67      0.79      0.72        68\n",
      "           4       0.68      0.82      0.75        50\n",
      "           5       0.88      0.98      0.93       116\n",
      "           6       0.49      0.39      0.43        51\n",
      "           7       0.99      0.90      0.95       105\n",
      "\n",
      "    accuracy                           0.77       484\n",
      "   macro avg       0.68      0.67      0.67       484\n",
      "weighted avg       0.76      0.77      0.76       484\n",
      "\n"
     ]
    },
    {
     "data": {
      "image/png": "[encoded data removed]",
      "text/plain": [
       "<Figure size 432x288 with 2 Axes>"
      ]
     },
     "metadata": {
      "needs_background": "light"
     },
     "output_type": "display_data"
    }
   ],
   "source": [
    "val_df = pd.read_csv(val_predictions)\n",
    "\n",
    "print(classification_report(val_df[\"true\"], val_df[\"predicted\"]))\n",
    "disp = ConfusionMatrixDisplay.from_predictions(val_df[\"true\"], val_df[\"predicted\"])"
   ]
  },
  {
   "attachments": {},
   "cell_type": "markdown",
   "metadata": {},
   "source": [
    "## Rotation invariance benchmark"
   ]
  },
  {
   "cell_type": "code",
   "execution_count": null,
   "metadata": {},
   "outputs": [],
   "source": [
    "import pyvista as pv\n",
    "\n",
    "mesh = pv.read()"
   ]
  },
  {
   "cell_type": "code",
   "execution_count": 18,
   "metadata": {},
   "outputs": [
    {
     "data": {
      "application/vnd.jupyter.widget-view+json": {
       "model_id": "261f4b01cb5b46d584d454ddb15b2fcf",
       "version_major": 2,
       "version_minor": 0
      },
      "text/plain": [
       "  0%|          | 0/3 [00:00<?, ?it/s]"
      ]
     },
     "metadata": {},
     "output_type": "display_data"
    },
    {
     "data": {
      "application/vnd.jupyter.widget-view+json": {
       "model_id": "517c050eca564951a3603162095a5ffb",
       "version_major": 2,
       "version_minor": 0
      },
      "text/plain": [
       "  0%|          | 0/2 [00:00<?, ?it/s]"
      ]
     },
     "metadata": {},
     "output_type": "display_data"
    },
    {
     "data": {
      "application/vnd.jupyter.widget-view+json": {
       "model_id": "80fc721c4b83476c8d59dd787e568357",
       "version_major": 2,
       "version_minor": 0
      },
      "text/plain": [
       "  0%|          | 0/2 [00:00<?, ?it/s]"
      ]
     },
     "metadata": {},
     "output_type": "display_data"
    },
    {
     "data": {
      "application/vnd.jupyter.widget-view+json": {
       "model_id": "96fd73c5a0404d09b33b1decbee0f614",
       "version_major": 2,
       "version_minor": 0
      },
      "text/plain": [
       "  0%|          | 0/2 [00:00<?, ?it/s]"
      ]
     },
     "metadata": {},
     "output_type": "display_data"
    },
    {
     "data": {
      "application/vnd.jupyter.widget-view+json": {
       "model_id": "c3688ffe26b448158aa68cd069651759",
       "version_major": 2,
       "version_minor": 0
      },
      "text/plain": [
       "  0%|          | 0/2 [00:00<?, ?it/s]"
      ]
     },
     "metadata": {},
     "output_type": "display_data"
    },
    {
     "data": {
      "application/vnd.jupyter.widget-view+json": {
       "model_id": "1f10573cb3034ce9a3a4339f9936c8f2",
       "version_major": 2,
       "version_minor": 0
      },
      "text/plain": [
       "  0%|          | 0/2 [00:00<?, ?it/s]"
      ]
     },
     "metadata": {},
     "output_type": "display_data"
    },
    {
     "data": {
      "application/vnd.jupyter.widget-view+json": {
       "model_id": "cd5e649f7bb940709338992ccbdcb45a",
       "version_major": 2,
       "version_minor": 0
      },
      "text/plain": [
       "  0%|          | 0/2 [00:00<?, ?it/s]"
      ]
     },
     "metadata": {},
     "output_type": "display_data"
    },
    {
     "data": {
      "application/vnd.jupyter.widget-view+json": {
       "model_id": "016b6075388444a8b89c28fc83d78b83",
       "version_major": 2,
       "version_minor": 0
      },
      "text/plain": [
       "  0%|          | 0/2 [00:00<?, ?it/s]"
      ]
     },
     "metadata": {},
     "output_type": "display_data"
    },
    {
     "data": {
      "application/vnd.jupyter.widget-view+json": {
       "model_id": "c22b0bc8a84f4cb6830dbbcb3b51d409",
       "version_major": 2,
       "version_minor": 0
      },
      "text/plain": [
       "  0%|          | 0/2 [00:00<?, ?it/s]"
      ]
     },
     "metadata": {},
     "output_type": "display_data"
    },
    {
     "data": {
      "application/vnd.jupyter.widget-view+json": {
       "model_id": "6677dddf704c472fa3bad59d6423de8b",
       "version_major": 2,
       "version_minor": 0
      },
      "text/plain": [
       "  0%|          | 0/2 [00:00<?, ?it/s]"
      ]
     },
     "metadata": {},
     "output_type": "display_data"
    },
    {
     "data": {
      "text/html": [
       "<div>\n",
       "<style scoped>\n",
       "    .dataframe tbody tr th:only-of-type {\n",
       "        vertical-align: middle;\n",
       "    }\n",
       "\n",
       "    .dataframe tbody tr th {\n",
       "        vertical-align: top;\n",
       "    }\n",
       "\n",
       "    .dataframe thead th {\n",
       "        text-align: right;\n",
       "    }\n",
       "</style>\n",
       "<table border=\"1\" class=\"dataframe\">\n",
       "  <thead>\n",
       "    <tr style=\"text-align: right;\">\n",
       "      <th></th>\n",
       "      <th>model</th>\n",
       "      <th>features</th>\n",
       "      <th>train-rot</th>\n",
       "      <th>test-rot</th>\n",
       "      <th>F1-macro</th>\n",
       "    </tr>\n",
       "  </thead>\n",
       "  <tbody>\n",
       "    <tr>\n",
       "      <th>0</th>\n",
       "      <td>dgcnn</td>\n",
       "      <td>xyz</td>\n",
       "      <td>False</td>\n",
       "      <td>False</td>\n",
       "      <td>0.829445</td>\n",
       "    </tr>\n",
       "    <tr>\n",
       "      <th>1</th>\n",
       "      <td>dgcnn</td>\n",
       "      <td>xyz</td>\n",
       "      <td>False</td>\n",
       "      <td>True</td>\n",
       "      <td>0.072019</td>\n",
       "    </tr>\n",
       "    <tr>\n",
       "      <th>4</th>\n",
       "      <td>dgcnn</td>\n",
       "      <td>hks</td>\n",
       "      <td>False</td>\n",
       "      <td>False</td>\n",
       "      <td>0.716447</td>\n",
       "    </tr>\n",
       "    <tr>\n",
       "      <th>5</th>\n",
       "      <td>dgcnn</td>\n",
       "      <td>hks</td>\n",
       "      <td>False</td>\n",
       "      <td>True</td>\n",
       "      <td>0.728638</td>\n",
       "    </tr>\n",
       "    <tr>\n",
       "      <th>8</th>\n",
       "      <td>sage</td>\n",
       "      <td>xyz</td>\n",
       "      <td>False</td>\n",
       "      <td>False</td>\n",
       "      <td>0.759667</td>\n",
       "    </tr>\n",
       "    <tr>\n",
       "      <th>9</th>\n",
       "      <td>sage</td>\n",
       "      <td>xyz</td>\n",
       "      <td>False</td>\n",
       "      <td>True</td>\n",
       "      <td>0.063136</td>\n",
       "    </tr>\n",
       "    <tr>\n",
       "      <th>12</th>\n",
       "      <td>sage</td>\n",
       "      <td>hks</td>\n",
       "      <td>False</td>\n",
       "      <td>False</td>\n",
       "      <td>0.778652</td>\n",
       "    </tr>\n",
       "    <tr>\n",
       "      <th>13</th>\n",
       "      <td>sage</td>\n",
       "      <td>hks</td>\n",
       "      <td>False</td>\n",
       "      <td>True</td>\n",
       "      <td>0.719633</td>\n",
       "    </tr>\n",
       "    <tr>\n",
       "      <th>16</th>\n",
       "      <td>feast</td>\n",
       "      <td>xyz</td>\n",
       "      <td>False</td>\n",
       "      <td>False</td>\n",
       "      <td>0.763602</td>\n",
       "    </tr>\n",
       "    <tr>\n",
       "      <th>17</th>\n",
       "      <td>feast</td>\n",
       "      <td>xyz</td>\n",
       "      <td>False</td>\n",
       "      <td>True</td>\n",
       "      <td>0.136030</td>\n",
       "    </tr>\n",
       "    <tr>\n",
       "      <th>20</th>\n",
       "      <td>feast</td>\n",
       "      <td>hks</td>\n",
       "      <td>False</td>\n",
       "      <td>False</td>\n",
       "      <td>0.735351</td>\n",
       "    </tr>\n",
       "    <tr>\n",
       "      <th>21</th>\n",
       "      <td>feast</td>\n",
       "      <td>hks</td>\n",
       "      <td>False</td>\n",
       "      <td>True</td>\n",
       "      <td>0.692332</td>\n",
       "    </tr>\n",
       "  </tbody>\n",
       "</table>\n",
       "</div>"
      ],
      "text/plain": [
       "    model features  train-rot  test-rot  F1-macro\n",
       "0   dgcnn      xyz      False     False  0.829445\n",
       "1   dgcnn      xyz      False      True  0.072019\n",
       "4   dgcnn      hks      False     False  0.716447\n",
       "5   dgcnn      hks      False      True  0.728638\n",
       "8    sage      xyz      False     False  0.759667\n",
       "9    sage      xyz      False      True  0.063136\n",
       "12   sage      hks      False     False  0.778652\n",
       "13   sage      hks      False      True  0.719633\n",
       "16  feast      xyz      False     False  0.763602\n",
       "17  feast      xyz      False      True  0.136030\n",
       "20  feast      hks      False     False  0.735351\n",
       "21  feast      hks      False      True  0.692332"
      ]
     },
     "execution_count": 18,
     "metadata": {},
     "output_type": "execute_result"
    }
   ],
   "source": [
    "models = [\"dgcnn\", \"sage\", \"feast\"]\n",
    "features = [\"xyz\", \"hks\"]\n",
    "\n",
    "data = []\n",
    "\n",
    "for model in tqdm(models):\n",
    "    for feature in tqdm(features):\n",
    "        for rotation in tqdm([False, True]):\n",
    "            val = pd.read_csv(f\"output/{model}-{feature}{'-rot' if rotation else ''}/val_predictions.csv\")\n",
    "            val_rot = pd.read_csv(f\"output/{model}-{feature}{'-rot' if rotation else ''}/val_predictions_rot.csv\")\n",
    "\n",
    "            val_f1 = f1_score(val[\"true\"], val[\"predicted\"], average=\"macro\")\n",
    "            val_f1_rot = f1_score(val_rot[\"true\"], val_rot[\"predicted\"], average=\"macro\")\n",
    "\n",
    "            data.append((model, feature, rotation, False, val_f1))\n",
    "            data.append((model, feature, rotation, True, val_f1_rot))\n",
    "\n",
    "\n",
    "df = pd.DataFrame(data, columns=[\"model\", \"features\", \"train-rot\", \"test-rot\", \"F1-macro\"])\n",
    "df[df[\"train-rot\"] == False]"
   ]
  }
 ],
 "metadata": {
  "kernelspec": {
   "display_name": "Python 3.9.10 ('dnn')",
   "language": "python",
   "name": "python3"
  },
  "language_info": {
   "codemirror_mode": {
    "name": "ipython",
    "version": 3
   },
   "file_extension": ".py",
   "mimetype": "text/x-python",
   "name": "python",
   "nbconvert_exporter": "python",
   "pygments_lexer": "ipython3",
   "version": "3.9.10 | packaged by conda-forge | (main, Feb  1 2022, 21:24:11) \n[GCC 9.4.0]"
  },
  "orig_nbformat": 4,
  "vscode": {
   "interpreter": {
    "hash": "3800b04b570d7adb484cd088406f6e6e787c9e1cbd87758f7af31a0046186547"
   }
  }
 },
 "nbformat": 4,
 "nbformat_minor": 2
}
