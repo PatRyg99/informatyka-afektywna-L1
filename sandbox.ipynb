{
 "cells": [
  {
   "cell_type": "code",
   "execution_count": 1,
   "metadata": {},
   "outputs": [],
   "source": [
    "%load_ext autoreload\n",
    "%autoreload 2"
   ]
  },
  {
   "cell_type": "code",
   "execution_count": 2,
   "outputs": [
    {
     "data": {
      "text/plain": "(tensor([[ 0.1047,  0.0431, -0.5565],\n         [ 0.1690,  0.0022, -0.5592],\n         [ 0.1316,  0.0287, -0.5366],\n         ...,\n         [ 0.2847,  0.0909, -0.3851],\n         [ 0.2599,  0.0798, -0.3958],\n         [ 0.2558,  0.1020, -0.4125]], dtype=torch.float64),\n tensor(5.))"
     },
     "execution_count": 2,
     "metadata": {},
     "output_type": "execute_result"
    }
   ],
   "source": [
    "from transforms import RandomRotation\n",
    "from collections import defaultdict\n",
    "from pathlib import Path\n",
    "from dataset import SinglePersonDataset\n",
    "\n",
    "root_path = Path(\"data/\")\n",
    "person_name = \"S014\"\n",
    "\n",
    "transforms = RandomRotation()\n",
    "dataset = SinglePersonDataset(root_path=root_path, person_name=person_name, transforms=transforms)\n",
    "dataset[0]"
   ],
   "metadata": {
    "collapsed": false
   }
  },
  {
   "cell_type": "code",
   "execution_count": 12,
   "metadata": {},
   "outputs": [
    {
     "data": {
      "text/plain": "(1313, 558)"
     },
     "execution_count": 12,
     "metadata": {},
     "output_type": "execute_result"
    }
   ],
   "source": [
    "import json\n",
    "from dataset import make_dataset\n",
    "from transforms import NormalRandomOffsetTransform\n",
    "\n",
    "\n",
    "split_path = Path(\"split.json\")\n",
    "with split_path.open() as file:\n",
    "    split_dict = json.load(file)\n",
    "\n",
    "train_dataset = make_dataset(root_path=root_path, people_names=split_dict[\"train\"], transforms=NormalRandomOffsetTransform(std=0.05))\n",
    "val_dataset = make_dataset(root_path=root_path, people_names=split_dict[\"val\"])\n",
    "\n",
    "len(train_dataset), len(val_dataset)"
   ]
  },
  {
   "cell_type": "code",
   "execution_count": 13,
   "outputs": [
    {
     "data": {
      "text/plain": "{0.0: 165, 1.0: 190, 2.0: 55, 3.0: 189, 4.0: 94, 5.0: 247, 6.0: 97, 7.0: 276}"
     },
     "execution_count": 13,
     "metadata": {},
     "output_type": "execute_result"
    }
   ],
   "source": [
    "train_counter = defaultdict(int)\n",
    "for x, y in train_dataset:\n",
    "    train_counter[y.item()] += 1\n",
    "dict(sorted(train_counter.items()))"
   ],
   "metadata": {
    "collapsed": false
   }
  },
  {
   "cell_type": "code",
   "execution_count": 14,
   "outputs": [
    {
     "data": {
      "text/plain": "{0.0: 74, 1.0: 77, 2.0: 17, 3.0: 68, 4.0: 50, 5.0: 116, 6.0: 51, 7.0: 105}"
     },
     "execution_count": 14,
     "metadata": {},
     "output_type": "execute_result"
    }
   ],
   "source": [
    "val_counter = defaultdict(int)\n",
    "for x, y in val_dataset:\n",
    "    val_counter[y.item()] += 1\n",
    "dict(sorted(val_counter.items()))"
   ],
   "metadata": {
    "collapsed": false
   }
  }
 ],
 "metadata": {
  "kernelspec": {
   "display_name": "Python 3 (ipykernel)",
   "language": "python",
   "name": "python3"
  },
  "language_info": {
   "codemirror_mode": {
    "name": "ipython",
    "version": 3
   },
   "file_extension": ".py",
   "mimetype": "text/x-python",
   "name": "python",
   "nbconvert_exporter": "python",
   "pygments_lexer": "ipython3",
   "version": "3.10.6"
  },
  "vscode": {
   "interpreter": {
    "hash": "3800b04b570d7adb484cd088406f6e6e787c9e1cbd87758f7af31a0046186547"
   }
  }
 },
 "nbformat": 4,
 "nbformat_minor": 2
}
