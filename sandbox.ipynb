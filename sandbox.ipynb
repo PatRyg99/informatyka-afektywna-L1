{
 "cells": [
  {
   "cell_type": "code",
   "execution_count": 29,
   "metadata": {},
   "outputs": [
    {
     "name": "stdout",
     "output_type": "stream",
     "text": [
      "The autoreload extension is already loaded. To reload it, use:\n",
      "  %reload_ext autoreload\n"
     ]
    }
   ],
   "source": [
    "%load_ext autoreload\n",
    "%autoreload 2"
   ]
  },
  {
   "cell_type": "code",
   "execution_count": 30,
   "metadata": {},
   "outputs": [
    {
     "data": {
      "text/plain": "defaultdict(int, {5.0: 5, 1.0: 7, 6.0: 5, 7.0: 7})"
     },
     "execution_count": 30,
     "metadata": {},
     "output_type": "execute_result"
    }
   ],
   "source": [
    "from collections import defaultdict\n",
    "from pathlib import Path\n",
    "from dataset import SinglePersonDataset\n",
    "\n",
    "root_path = Path(\"data/\")\n",
    "person_name = \"S014\"\n",
    "\n",
    "dataset = SinglePersonDataset(root_path=root_path, person_name=person_name)\n",
    "\n",
    "train_counter = defaultdict(int)\n",
    "for x, y in dataset:\n",
    "    train_counter[y.item()] += 1\n",
    "\n",
    "train_counter"
   ]
  },
  {
   "cell_type": "code",
   "execution_count": 31,
   "metadata": {},
   "outputs": [
    {
     "data": {
      "text/plain": "(1148, 484)"
     },
     "execution_count": 31,
     "metadata": {},
     "output_type": "execute_result"
    }
   ],
   "source": [
    "import json\n",
    "from dataset import make_dataset\n",
    "\n",
    "split_path = Path(\"split.json\")\n",
    "with split_path.open() as file:\n",
    "    split_dict = json.load(file)\n",
    "\n",
    "train_dataset = make_dataset(root_path=root_path, people_names=split_dict[\"train\"])\n",
    "val_dataset = make_dataset(root_path=root_path, people_names=split_dict[\"val\"])\n",
    "\n",
    "len(train_dataset), len(val_dataset)"
   ]
  },
  {
   "cell_type": "code",
   "execution_count": 32,
   "outputs": [
    {
     "data": {
      "text/plain": "{1.0: 190, 2.0: 55, 3.0: 189, 4.0: 94, 5.0: 247, 6.0: 97, 7.0: 276}"
     },
     "execution_count": 32,
     "metadata": {},
     "output_type": "execute_result"
    }
   ],
   "source": [
    "train_counter = defaultdict(int)\n",
    "for x, y in train_dataset:\n",
    "    train_counter[y.item()] += 1\n",
    "dict(sorted(train_counter.items()))"
   ],
   "metadata": {
    "collapsed": false
   }
  },
  {
   "cell_type": "code",
   "execution_count": 33,
   "outputs": [
    {
     "data": {
      "text/plain": "{1.0: 77, 2.0: 17, 3.0: 68, 4.0: 50, 5.0: 116, 6.0: 51, 7.0: 105}"
     },
     "execution_count": 33,
     "metadata": {},
     "output_type": "execute_result"
    }
   ],
   "source": [
    "val_counter = defaultdict(int)\n",
    "for x, y in val_dataset:\n",
    "    val_counter[y.item()] += 1\n",
    "dict(sorted(val_counter.items()))"
   ],
   "metadata": {
    "collapsed": false
   }
  }
 ],
 "metadata": {
  "kernelspec": {
   "display_name": "Python 3 (ipykernel)",
   "language": "python",
   "name": "python3"
  },
  "language_info": {
   "codemirror_mode": {
    "name": "ipython",
    "version": 3
   },
   "file_extension": ".py",
   "mimetype": "text/x-python",
   "name": "python",
   "nbconvert_exporter": "python",
   "pygments_lexer": "ipython3",
   "version": "3.10.6"
  },
  "vscode": {
   "interpreter": {
    "hash": "3800b04b570d7adb484cd088406f6e6e787c9e1cbd87758f7af31a0046186547"
   }
  }
 },
 "nbformat": 4,
 "nbformat_minor": 2
}
