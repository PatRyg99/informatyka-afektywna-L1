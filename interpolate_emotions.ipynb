{
 "cells": [
  {
   "cell_type": "code",
   "execution_count": 1,
   "metadata": {},
   "outputs": [],
   "source": [
    "import json\n",
    "from pathlib import Path\n",
    "\n",
    "import numpy as np\n",
    "import pandas as pd\n",
    "import pyvista as pv\n",
    "\n",
    "from src.dataset.dataset import make_dataset"
   ]
  },
  {
   "cell_type": "code",
   "execution_count": 11,
   "metadata": {},
   "outputs": [],
   "source": [
    "emotion_mapper: dict[int, str] = {\n",
    "    0: \"neutral\",\n",
    "    1: \"anger\",\n",
    "    2: \"contempt\",\n",
    "    3: \"disgust\",\n",
    "    4: \"fear\",\n",
    "    5: \"happy\",\n",
    "    6: \"sadness\",\n",
    "    7: \"surprise\",\n",
    "}"
   ]
  },
  {
   "cell_type": "code",
   "execution_count": 14,
   "metadata": {},
   "outputs": [],
   "source": [
    "def plot_interpolation(df, emotion):\n",
    "    samples = df[df[\"label\"] == emotion].sample(n=2)\n",
    "    f1, f2 = samples[\"pointcloud\"]\n",
    "\n",
    "    f1 = ((f1 - f1.min()) / (f1.max() - f1.min()) - 0.5).numpy()\n",
    "    f2 = ((f2 - f2.min()) / (f2.max() - f2.min()) - 0.5).numpy()\n",
    "\n",
    "    f1[:, 1] *= -1\n",
    "    f2[:, 1] *= -1\n",
    "    \n",
    "    v = f2 - f1\n",
    "\n",
    "    plotter = pv.Plotter(shape=(1, 5), window_size=(1200, 300))\n",
    "    plotter.add_text(f\"Emotion: {emotion_mapper[emotion]}\", font_size=15)\n",
    "\n",
    "    plotter.subplot(0, 0)\n",
    "    plotter.add_text(\"(1.00, 0.00)\", font_size=10, position=\"lower_left\")\n",
    "    plotter.add_mesh(pv.PolyData(f1), render_points_as_spheres=True)\n",
    "\n",
    "    plotter.subplot(0, 1)\n",
    "    plotter.add_text(\"(0.75, 0.25)\", font_size=10, position=\"lower_left\")\n",
    "    plotter.add_mesh(pv.PolyData(f1 + 0.25 * v), render_points_as_spheres=True)\n",
    "\n",
    "    plotter.subplot(0, 2)\n",
    "    plotter.add_text(\"(0.50, 0.50)\", font_size=10, position=\"lower_left\")\n",
    "    plotter.add_mesh(pv.PolyData(f1 + 0.5 * v), render_points_as_spheres=True)\n",
    "\n",
    "    plotter.subplot(0, 3)\n",
    "    plotter.add_text(\"(0.25, 0.75)\", font_size=10, position=\"lower_left\")\n",
    "    plotter.add_mesh(pv.PolyData(f1 + 0.75 * v), render_points_as_spheres=True)\n",
    "\n",
    "    plotter.subplot(0, 4)\n",
    "    plotter.add_text(\"(0.00, 1.00)\", font_size=10, position=\"lower_left\")\n",
    "    plotter.add_mesh(pv.PolyData(f2), render_points_as_spheres=True)\n",
    "\n",
    "    plotter.link_views()\n",
    "    plotter.camera_position = \"xy\"\n",
    "    plotter.show()"
   ]
  },
  {
   "cell_type": "code",
   "execution_count": 3,
   "metadata": {},
   "outputs": [
    {
     "name": "stderr",
     "output_type": "stream",
     "text": [
      "Loading dataset: 100%|██████████| 1148/1148 [00:00<00:00, 1325367.74it/s]\n"
     ]
    }
   ],
   "source": [
    "with Path(\"split.json\").open() as file:\n",
    "    split_dict = json.load(file)\n",
    "\n",
    "ds = [(data[\"pointcloud\"], data[\"label\"].item()) for data in make_dataset(root_path=Path(\"./data/\"), people_names=split_dict[\"train\"])]\n",
    "df = pd.DataFrame(ds, columns=[\"pointcloud\", \"label\"])"
   ]
  },
  {
   "cell_type": "code",
   "execution_count": 15,
   "metadata": {},
   "outputs": [
    {
     "data": {
      "application/vnd.jupyter.widget-view+json": {
       "model_id": "7e1571d623a14c37b4376c003a0f23c1",
       "version_major": 2,
       "version_minor": 0
      },
      "text/plain": [
       "ViewInteractiveWidget(height=300, layout=Layout(height='auto', width='100%'), width=1200)"
      ]
     },
     "metadata": {},
     "output_type": "display_data"
    },
    {
     "data": {
      "application/vnd.jupyter.widget-view+json": {
       "model_id": "5e9a2afbffa84630a4dfb4b7dc021cd9",
       "version_major": 2,
       "version_minor": 0
      },
      "text/plain": [
       "ViewInteractiveWidget(height=300, layout=Layout(height='auto', width='100%'), width=1200)"
      ]
     },
     "metadata": {},
     "output_type": "display_data"
    },
    {
     "data": {
      "application/vnd.jupyter.widget-view+json": {
       "model_id": "c78df749a3aa4f2cb90426426ee19f58",
       "version_major": 2,
       "version_minor": 0
      },
      "text/plain": [
       "ViewInteractiveWidget(height=300, layout=Layout(height='auto', width='100%'), width=1200)"
      ]
     },
     "metadata": {},
     "output_type": "display_data"
    },
    {
     "data": {
      "application/vnd.jupyter.widget-view+json": {
       "model_id": "ee6edb7aa0f843628f8fca6f3bbb8110",
       "version_major": 2,
       "version_minor": 0
      },
      "text/plain": [
       "ViewInteractiveWidget(height=300, layout=Layout(height='auto', width='100%'), width=1200)"
      ]
     },
     "metadata": {},
     "output_type": "display_data"
    },
    {
     "data": {
      "application/vnd.jupyter.widget-view+json": {
       "model_id": "44f0712ef4d54dd0ac91dd8b715a4135",
       "version_major": 2,
       "version_minor": 0
      },
      "text/plain": [
       "ViewInteractiveWidget(height=300, layout=Layout(height='auto', width='100%'), width=1200)"
      ]
     },
     "metadata": {},
     "output_type": "display_data"
    },
    {
     "data": {
      "application/vnd.jupyter.widget-view+json": {
       "model_id": "c0d2af4a4aba466cafd6d9899dba7a04",
       "version_major": 2,
       "version_minor": 0
      },
      "text/plain": [
       "ViewInteractiveWidget(height=300, layout=Layout(height='auto', width='100%'), width=1200)"
      ]
     },
     "metadata": {},
     "output_type": "display_data"
    },
    {
     "data": {
      "application/vnd.jupyter.widget-view+json": {
       "model_id": "ffbb50cf57af44f7ba398f3c151e4986",
       "version_major": 2,
       "version_minor": 0
      },
      "text/plain": [
       "ViewInteractiveWidget(height=300, layout=Layout(height='auto', width='100%'), width=1200)"
      ]
     },
     "metadata": {},
     "output_type": "display_data"
    }
   ],
   "source": [
    "plot_interpolation(df, emotion=1)\n",
    "plot_interpolation(df, emotion=2)\n",
    "plot_interpolation(df, emotion=3)\n",
    "plot_interpolation(df, emotion=4)\n",
    "plot_interpolation(df, emotion=5)\n",
    "plot_interpolation(df, emotion=6)\n",
    "plot_interpolation(df, emotion=7)"
   ]
  }
 ],
 "metadata": {
  "kernelspec": {
   "display_name": "Python 3.9.10 ('dnn')",
   "language": "python",
   "name": "python3"
  },
  "language_info": {
   "codemirror_mode": {
    "name": "ipython",
    "version": 3
   },
   "file_extension": ".py",
   "mimetype": "text/x-python",
   "name": "python",
   "nbconvert_exporter": "python",
   "pygments_lexer": "ipython3",
   "version": "3.9.10"
  },
  "orig_nbformat": 4,
  "vscode": {
   "interpreter": {
    "hash": "3800b04b570d7adb484cd088406f6e6e787c9e1cbd87758f7af31a0046186547"
   }
  }
 },
 "nbformat": 4,
 "nbformat_minor": 2
}
