{
 "cells": [
  {
   "cell_type": "code",
   "execution_count": 1,
   "metadata": {},
   "outputs": [],
   "source": [
    "import json\n",
    "from pathlib import Path\n",
    "\n",
    "import numpy as np\n",
    "import pandas as pd\n",
    "import pyvista as pv\n",
    "\n",
    "from src.dataset.dataset import make_dataset"
   ]
  },
  {
   "cell_type": "code",
   "execution_count": 11,
   "metadata": {},
   "outputs": [],
   "source": [
    "emotion_mapper: dict[int, str] = {\n",
    "    0: \"neutral\",\n",
    "    1: \"anger\",\n",
    "    2: \"contempt\",\n",
    "    3: \"disgust\",\n",
    "    4: \"fear\",\n",
    "    5: \"happy\",\n",
    "    6: \"sadness\",\n",
    "    7: \"surprise\",\n",
    "}"
   ]
  },
  {
   "cell_type": "code",
   "execution_count": 14,
   "metadata": {},
   "outputs": [],
   "source": [
    "def plot_interpolation(df, emotion):\n",
    "    samples = df[df[\"label\"] == emotion].sample(n=2)\n",
    "    f1, f2 = samples[\"pointcloud\"]\n",
    "\n",
    "    f1 = ((f1 - f1.min()) / (f1.max() - f1.min()) - 0.5).numpy()\n",
    "    f2 = ((f2 - f2.min()) / (f2.max() - f2.min()) - 0.5).numpy()\n",
    "\n",
    "    f1[:, 1] *= -1\n",
    "    f2[:, 1] *= -1\n",
    "    \n",
    "    v = f2 - f1\n",
    "\n",
    "    plotter = pv.Plotter(shape=(1, 5), window_size=(1200, 300))\n",
    "    plotter.add_text(f\"Emotion: {emotion_mapper[emotion]}\", font_size=15)\n",
    "\n",
    "    plotter.subplot(0, 0)\n",
    "    plotter.add_text(\"(1.00, 0.00)\", font_size=10, position=\"lower_left\")\n",
    "    plotter.add_mesh(pv.PolyData(f1), render_points_as_spheres=True)\n",
    "\n",
    "    plotter.subplot(0, 1)\n",
    "    plotter.add_text(\"(0.75, 0.25)\", font_size=10, position=\"lower_left\")\n",
    "    plotter.add_mesh(pv.PolyData(f1 + 0.25 * v), render_points_as_spheres=True)\n",
    "\n",
    "    plotter.subplot(0, 2)\n",
    "    plotter.add_text(\"(0.50, 0.50)\", font_size=10, position=\"lower_left\")\n",
    "    plotter.add_mesh(pv.PolyData(f1 + 0.5 * v), render_points_as_spheres=True)\n",
    "\n",
    "    plotter.subplot(0, 3)\n",
    "    plotter.add_text(\"(0.25, 0.75)\", font_size=10, position=\"lower_left\")\n",
    "    plotter.add_mesh(pv.PolyData(f1 + 0.75 * v), render_points_as_spheres=True)\n",
    "\n",
    "    plotter.subplot(0, 4)\n",
    "    plotter.add_text(\"(0.00, 1.00)\", font_size=10, position=\"lower_left\")\n",
    "    plotter.add_mesh(pv.PolyData(f2), render_points_as_spheres=True)\n",
    "\n",
    "    plotter.link_views()\n",
    "    plotter.camera_position = \"xy\"\n",
    "    plotter.show()"
   ]
  },
  {
   "cell_type": "code",
   "execution_count": 3,
   "metadata": {},
   "outputs": [
    {
     "name": "stderr",
     "output_type": "stream",
     "text": [
      "Loading dataset: 100%|██████████| 1148/1148 [00:00<00:00, 1325367.74it/s]\n"
     ]
    }
   ],
   "source": [
    "with Path(\"split.json\").open() as file:\n",
    "    split_dict = json.load(file)\n",
    "\n",
    "ds = [(data[\"pointcloud\"], data[\"label\"].item()) for data in make_dataset(root_path=Path(\"./data/\"), people_names=split_dict[\"train\"])]\n",
    "df = pd.DataFrame(ds, columns=[\"pointcloud\", \"label\"])"
   ]
  },
  {
   "cell_type": "code",
   "execution_count": 16,
   "metadata": {},
   "outputs": [
    {
     "data": {
      "application/vnd.jupyter.widget-view+json": {
       "model_id": "ca63198cef3c4b3ea15d7c980991e709",
       "version_major": 2,
       "version_minor": 0
      },
      "text/plain": [
       "ViewInteractiveWidget(height=300, layout=Layout(height='auto', width='100%'), width=1200)"
      ]
     },
     "metadata": {},
     "output_type": "display_data"
    },
    {
     "data": {
      "application/vnd.jupyter.widget-view+json": {
       "model_id": "360c195966e44ef78b8267d54ee2fb22",
       "version_major": 2,
       "version_minor": 0
      },
      "text/plain": [
       "ViewInteractiveWidget(height=300, layout=Layout(height='auto', width='100%'), width=1200)"
      ]
     },
     "metadata": {},
     "output_type": "display_data"
    },
    {
     "data": {
      "application/vnd.jupyter.widget-view+json": {
       "model_id": "be6fed88d9db475e88f0bf04acbf46ef",
       "version_major": 2,
       "version_minor": 0
      },
      "text/plain": [
       "ViewInteractiveWidget(height=300, layout=Layout(height='auto', width='100%'), width=1200)"
      ]
     },
     "metadata": {},
     "output_type": "display_data"
    },
    {
     "data": {
      "application/vnd.jupyter.widget-view+json": {
       "model_id": "730703eb74dd4d29a9a32f54c19d24bf",
       "version_major": 2,
       "version_minor": 0
      },
      "text/plain": [
       "ViewInteractiveWidget(height=300, layout=Layout(height='auto', width='100%'), width=1200)"
      ]
     },
     "metadata": {},
     "output_type": "display_data"
    },
    {
     "data": {
      "application/vnd.jupyter.widget-view+json": {
       "model_id": "bfdf30e65c204274bdccb996d6d4109d",
       "version_major": 2,
       "version_minor": 0
      },
      "text/plain": [
       "ViewInteractiveWidget(height=300, layout=Layout(height='auto', width='100%'), width=1200)"
      ]
     },
     "metadata": {},
     "output_type": "display_data"
    },
    {
     "data": {
      "application/vnd.jupyter.widget-view+json": {
       "model_id": "5f3a03206413482bbe94bc20bdd34d67",
       "version_major": 2,
       "version_minor": 0
      },
      "text/plain": [
       "ViewInteractiveWidget(height=300, layout=Layout(height='auto', width='100%'), width=1200)"
      ]
     },
     "metadata": {},
     "output_type": "display_data"
    },
    {
     "data": {
      "application/vnd.jupyter.widget-view+json": {
       "model_id": "ee6ac5a599484923ac1658f3802aaa9a",
       "version_major": 2,
       "version_minor": 0
      },
      "text/plain": [
       "ViewInteractiveWidget(height=300, layout=Layout(height='auto', width='100%'), width=1200)"
      ]
     },
     "metadata": {},
     "output_type": "display_data"
    }
   ],
   "source": [
    "plot_interpolation(df, emotion=1)\n",
    "plot_interpolation(df, emotion=2)\n",
    "plot_interpolation(df, emotion=3)\n",
    "plot_interpolation(df, emotion=4)\n",
    "plot_interpolation(df, emotion=5)\n",
    "plot_interpolation(df, emotion=6)\n",
    "plot_interpolation(df, emotion=7)"
   ]
  }
 ],
 "metadata": {
  "kernelspec": {
   "display_name": "Python 3.9.10 ('dnn')",
   "language": "python",
   "name": "python3"
  },
  "language_info": {
   "codemirror_mode": {
    "name": "ipython",
    "version": 3
   },
   "file_extension": ".py",
   "mimetype": "text/x-python",
   "name": "python",
   "nbconvert_exporter": "python",
   "pygments_lexer": "ipython3",
   "version": "3.9.10 | packaged by conda-forge | (main, Feb  1 2022, 21:24:11) \n[GCC 9.4.0]"
  },
  "orig_nbformat": 4,
  "vscode": {
   "interpreter": {
    "hash": "3800b04b570d7adb484cd088406f6e6e787c9e1cbd87758f7af31a0046186547"
   }
  }
 },
 "nbformat": 4,
 "nbformat_minor": 2
}
